{
 "cells": [
  {
   "cell_type": "markdown",
   "id": "7084f347",
   "metadata": {},
   "source": [
    "## Notebook specific deps"
   ]
  },
  {
   "cell_type": "code",
   "execution_count": 1,
   "id": "56adaeef",
   "metadata": {},
   "outputs": [
    {
     "name": "stdout",
     "output_type": "stream",
     "text": [
      "\u001b[2mAudited \u001b[1m6 packages\u001b[0m \u001b[2min 21ms\u001b[0m\u001b[0m\n"
     ]
    }
   ],
   "source": [
    "!uv pip install kagglehub seaborn scikit-learn imblearn safetensors jupyter"
   ]
  },
  {
   "cell_type": "markdown",
   "id": "a9742d8d-6567-4ac2-ba84-398083b5c217",
   "metadata": {
    "vscode": {
     "languageId": "plaintext"
    }
   },
   "source": [
    "## Download the dataset"
   ]
  },
  {
   "cell_type": "code",
   "execution_count": 2,
   "id": "7ee51d10-8c6b-4af8-a3ab-65cb0eca4202",
   "metadata": {},
   "outputs": [
    {
     "name": "stdout",
     "output_type": "stream",
     "text": [
      "dataset/pima-indians-diabetes-database exists\n"
     ]
    }
   ],
   "source": [
    "import shutil\n",
    "import kagglehub\n",
    "from pathlib import Path\n",
    "\n",
    "DATASET_PATH = Path(\"./dataset/pima-indians-diabetes-database\")\n",
    "\n",
    "if not DATASET_PATH.exists():\n",
    "    # Download latest version\n",
    "    path = kagglehub.dataset_download(\"uciml/pima-indians-diabetes-database\")\n",
    "    shutil.move(path, DATASET_PATH)\n",
    "else:\n",
    "    print(f\"{DATASET_PATH} exists\")"
   ]
  },
  {
   "cell_type": "markdown",
   "id": "527b1fff-85ed-4df8-b0fe-25710fd99b62",
   "metadata": {},
   "source": [
    "## Dataset Understanding"
   ]
  },
  {
   "cell_type": "code",
   "execution_count": 3,
   "id": "e03b0a5a-4a61-49b8-a8e6-5c0376787fe1",
   "metadata": {},
   "outputs": [],
   "source": [
    "import pandas as pd\n",
    "\n",
    "column_names = ['Pregnancies', 'Glucose', 'BloodPressure', 'SkinThickness', 'Insulin', 'BMI', 'DiabetesPedigreeFunction', 'Age', 'y']\n",
    "df_diabetes = pd.read_csv(DATASET_PATH / \"diabetes.csv\", header=0, names=column_names)"
   ]
  },
  {
   "cell_type": "code",
   "execution_count": 4,
   "id": "23187306-5178-416d-b5b5-ff6ae2d75e64",
   "metadata": {},
   "outputs": [
    {
     "name": "stdout",
     "output_type": "stream",
     "text": [
      "<class 'pandas.core.frame.DataFrame'>\n",
      "RangeIndex: 768 entries, 0 to 767\n",
      "Data columns (total 9 columns):\n",
      " #   Column                    Non-Null Count  Dtype  \n",
      "---  ------                    --------------  -----  \n",
      " 0   Pregnancies               768 non-null    int64  \n",
      " 1   Glucose                   768 non-null    int64  \n",
      " 2   BloodPressure             768 non-null    int64  \n",
      " 3   SkinThickness             768 non-null    int64  \n",
      " 4   Insulin                   768 non-null    int64  \n",
      " 5   BMI                       768 non-null    float64\n",
      " 6   DiabetesPedigreeFunction  768 non-null    float64\n",
      " 7   Age                       768 non-null    int64  \n",
      " 8   y                         768 non-null    int64  \n",
      "dtypes: float64(2), int64(7)\n",
      "memory usage: 54.1 KB\n"
     ]
    }
   ],
   "source": [
    "df_diabetes.info()"
   ]
  },
  {
   "cell_type": "code",
   "execution_count": 5,
   "id": "cd10495e-5387-4211-bff8-d6ca2f07d459",
   "metadata": {},
   "outputs": [
    {
     "data": {
      "text/html": [
       "<div>\n",
       "<style scoped>\n",
       "    .dataframe tbody tr th:only-of-type {\n",
       "        vertical-align: middle;\n",
       "    }\n",
       "\n",
       "    .dataframe tbody tr th {\n",
       "        vertical-align: top;\n",
       "    }\n",
       "\n",
       "    .dataframe thead th {\n",
       "        text-align: right;\n",
       "    }\n",
       "</style>\n",
       "<table border=\"1\" class=\"dataframe\">\n",
       "  <thead>\n",
       "    <tr style=\"text-align: right;\">\n",
       "      <th></th>\n",
       "      <th>Pregnancies</th>\n",
       "      <th>Glucose</th>\n",
       "      <th>BloodPressure</th>\n",
       "      <th>SkinThickness</th>\n",
       "      <th>Insulin</th>\n",
       "      <th>BMI</th>\n",
       "      <th>DiabetesPedigreeFunction</th>\n",
       "      <th>Age</th>\n",
       "      <th>y</th>\n",
       "    </tr>\n",
       "  </thead>\n",
       "  <tbody>\n",
       "    <tr>\n",
       "      <th>0</th>\n",
       "      <td>6</td>\n",
       "      <td>148</td>\n",
       "      <td>72</td>\n",
       "      <td>35</td>\n",
       "      <td>0</td>\n",
       "      <td>33.6</td>\n",
       "      <td>0.627</td>\n",
       "      <td>50</td>\n",
       "      <td>1</td>\n",
       "    </tr>\n",
       "    <tr>\n",
       "      <th>1</th>\n",
       "      <td>1</td>\n",
       "      <td>85</td>\n",
       "      <td>66</td>\n",
       "      <td>29</td>\n",
       "      <td>0</td>\n",
       "      <td>26.6</td>\n",
       "      <td>0.351</td>\n",
       "      <td>31</td>\n",
       "      <td>0</td>\n",
       "    </tr>\n",
       "    <tr>\n",
       "      <th>2</th>\n",
       "      <td>8</td>\n",
       "      <td>183</td>\n",
       "      <td>64</td>\n",
       "      <td>0</td>\n",
       "      <td>0</td>\n",
       "      <td>23.3</td>\n",
       "      <td>0.672</td>\n",
       "      <td>32</td>\n",
       "      <td>1</td>\n",
       "    </tr>\n",
       "    <tr>\n",
       "      <th>3</th>\n",
       "      <td>1</td>\n",
       "      <td>89</td>\n",
       "      <td>66</td>\n",
       "      <td>23</td>\n",
       "      <td>94</td>\n",
       "      <td>28.1</td>\n",
       "      <td>0.167</td>\n",
       "      <td>21</td>\n",
       "      <td>0</td>\n",
       "    </tr>\n",
       "    <tr>\n",
       "      <th>4</th>\n",
       "      <td>0</td>\n",
       "      <td>137</td>\n",
       "      <td>40</td>\n",
       "      <td>35</td>\n",
       "      <td>168</td>\n",
       "      <td>43.1</td>\n",
       "      <td>2.288</td>\n",
       "      <td>33</td>\n",
       "      <td>1</td>\n",
       "    </tr>\n",
       "    <tr>\n",
       "      <th>...</th>\n",
       "      <td>...</td>\n",
       "      <td>...</td>\n",
       "      <td>...</td>\n",
       "      <td>...</td>\n",
       "      <td>...</td>\n",
       "      <td>...</td>\n",
       "      <td>...</td>\n",
       "      <td>...</td>\n",
       "      <td>...</td>\n",
       "    </tr>\n",
       "    <tr>\n",
       "      <th>763</th>\n",
       "      <td>10</td>\n",
       "      <td>101</td>\n",
       "      <td>76</td>\n",
       "      <td>48</td>\n",
       "      <td>180</td>\n",
       "      <td>32.9</td>\n",
       "      <td>0.171</td>\n",
       "      <td>63</td>\n",
       "      <td>0</td>\n",
       "    </tr>\n",
       "    <tr>\n",
       "      <th>764</th>\n",
       "      <td>2</td>\n",
       "      <td>122</td>\n",
       "      <td>70</td>\n",
       "      <td>27</td>\n",
       "      <td>0</td>\n",
       "      <td>36.8</td>\n",
       "      <td>0.340</td>\n",
       "      <td>27</td>\n",
       "      <td>0</td>\n",
       "    </tr>\n",
       "    <tr>\n",
       "      <th>765</th>\n",
       "      <td>5</td>\n",
       "      <td>121</td>\n",
       "      <td>72</td>\n",
       "      <td>23</td>\n",
       "      <td>112</td>\n",
       "      <td>26.2</td>\n",
       "      <td>0.245</td>\n",
       "      <td>30</td>\n",
       "      <td>0</td>\n",
       "    </tr>\n",
       "    <tr>\n",
       "      <th>766</th>\n",
       "      <td>1</td>\n",
       "      <td>126</td>\n",
       "      <td>60</td>\n",
       "      <td>0</td>\n",
       "      <td>0</td>\n",
       "      <td>30.1</td>\n",
       "      <td>0.349</td>\n",
       "      <td>47</td>\n",
       "      <td>1</td>\n",
       "    </tr>\n",
       "    <tr>\n",
       "      <th>767</th>\n",
       "      <td>1</td>\n",
       "      <td>93</td>\n",
       "      <td>70</td>\n",
       "      <td>31</td>\n",
       "      <td>0</td>\n",
       "      <td>30.4</td>\n",
       "      <td>0.315</td>\n",
       "      <td>23</td>\n",
       "      <td>0</td>\n",
       "    </tr>\n",
       "  </tbody>\n",
       "</table>\n",
       "<p>768 rows × 9 columns</p>\n",
       "</div>"
      ],
      "text/plain": [
       "     Pregnancies  Glucose  BloodPressure  SkinThickness  Insulin   BMI  \\\n",
       "0              6      148             72             35        0  33.6   \n",
       "1              1       85             66             29        0  26.6   \n",
       "2              8      183             64              0        0  23.3   \n",
       "3              1       89             66             23       94  28.1   \n",
       "4              0      137             40             35      168  43.1   \n",
       "..           ...      ...            ...            ...      ...   ...   \n",
       "763           10      101             76             48      180  32.9   \n",
       "764            2      122             70             27        0  36.8   \n",
       "765            5      121             72             23      112  26.2   \n",
       "766            1      126             60              0        0  30.1   \n",
       "767            1       93             70             31        0  30.4   \n",
       "\n",
       "     DiabetesPedigreeFunction  Age  y  \n",
       "0                       0.627   50  1  \n",
       "1                       0.351   31  0  \n",
       "2                       0.672   32  1  \n",
       "3                       0.167   21  0  \n",
       "4                       2.288   33  1  \n",
       "..                        ...  ... ..  \n",
       "763                     0.171   63  0  \n",
       "764                     0.340   27  0  \n",
       "765                     0.245   30  0  \n",
       "766                     0.349   47  1  \n",
       "767                     0.315   23  0  \n",
       "\n",
       "[768 rows x 9 columns]"
      ]
     },
     "execution_count": 5,
     "metadata": {},
     "output_type": "execute_result"
    }
   ],
   "source": [
    "df_diabetes"
   ]
  },
  {
   "cell_type": "code",
   "execution_count": 6,
   "id": "c44d212c-9454-43fb-ac0c-b516858acc53",
   "metadata": {},
   "outputs": [
    {
     "data": {
      "text/plain": [
       "array([[<Axes: title={'center': 'Pregnancies'}>,\n",
       "        <Axes: title={'center': 'Glucose'}>,\n",
       "        <Axes: title={'center': 'BloodPressure'}>],\n",
       "       [<Axes: title={'center': 'SkinThickness'}>,\n",
       "        <Axes: title={'center': 'Insulin'}>,\n",
       "        <Axes: title={'center': 'BMI'}>],\n",
       "       [<Axes: title={'center': 'DiabetesPedigreeFunction'}>,\n",
       "        <Axes: title={'center': 'Age'}>, <Axes: title={'center': 'y'}>]],\n",
       "      dtype=object)"
      ]
     },
     "execution_count": 6,
     "metadata": {},
     "output_type": "execute_result"
    },
    {
     "data": {
      "image/png": "[encoded data removed]",
      "text/plain": [
       "<Figure size 900x900 with 9 Axes>"
      ]
     },
     "metadata": {},
     "output_type": "display_data"
    }
   ],
   "source": [
    "df_diabetes.hist(figsize=(9, 9))"
   ]
  },
  {
   "cell_type": "markdown",
   "id": "63e87e1e-c470-42a4-9afb-67fefb840f47",
   "metadata": {},
   "source": [
    "#### Target value counts"
   ]
  },
  {
   "cell_type": "code",
   "execution_count": 7,
   "id": "f709912c-4426-4d08-9edb-bd0471aaf03b",
   "metadata": {},
   "outputs": [
    {
     "data": {
      "text/plain": [
       "y\n",
       "0    500\n",
       "1    268\n",
       "Name: count, dtype: int64"
      ]
     },
     "execution_count": 7,
     "metadata": {},
     "output_type": "execute_result"
    }
   ],
   "source": [
    "df_diabetes['y'].value_counts()"
   ]
  },
  {
   "cell_type": "code",
   "execution_count": 8,
   "id": "d3ebc07f-7109-4d58-923d-4f3755e7ac19",
   "metadata": {},
   "outputs": [
    {
     "data": {
      "image/png": "[encoded data removed]",
      "text/plain": [
       "<Figure size 640x480 with 1 Axes>"
      ]
     },
     "metadata": {},
     "output_type": "display_data"
    }
   ],
   "source": [
    "import seaborn as sns\n",
    "import matplotlib.pyplot as plt\n",
    "\n",
    "sns.countplot(x='y', data=df_diabetes)\n",
    "plt.show()"
   ]
  },
  {
   "cell_type": "code",
   "execution_count": 9,
   "id": "53cc892f-1d97-4ae7-8e76-42d43c5ead22",
   "metadata": {},
   "outputs": [
    {
     "data": {
      "image/png": "[encoded data removed]",
      "text/plain": [
       "<Figure size 640x480 with 1 Axes>"
      ]
     },
     "metadata": {},
     "output_type": "display_data"
    }
   ],
   "source": [
    "#df_diabetes['y'].value_counts().plot(kind='pie')\n",
    "plt.pie(df_diabetes['y'].value_counts().tolist(), labels=['0', '1'], autopct='%1.1f%%')\n",
    "\n",
    "plt.title(\"Outcomes\")\n",
    "plt.tight_layout()\n",
    "\n",
    "plt.show()"
   ]
  },
  {
   "cell_type": "markdown",
   "id": "a68a233f-cdc0-45bc-a739-a6da2c8a5f23",
   "metadata": {},
   "source": [
    "#### Diabetes % by age range"
   ]
  },
  {
   "cell_type": "code",
   "execution_count": 10,
   "id": "345ad4ec-960d-400b-8574-1d7ee7976052",
   "metadata": {},
   "outputs": [
    {
     "data": {
      "image/png": "[encoded data removed]",
      "text/plain": [
       "<Figure size 640x480 with 1 Axes>"
      ]
     },
     "metadata": {},
     "output_type": "display_data"
    }
   ],
   "source": [
    "# Define Age ranges\n",
    "age_bins = [20, 30, 40, 50, 60, 70, 80]  # Adjust the age ranges as needed\n",
    "age_labels = ['20-29', '30-39', '40-49', '50-59', '60-69', '70+']\n",
    "\n",
    "#Use the pd.cut function to categorize ages into age ranges:\n",
    "df_diabetes['AgeRange'] = pd.cut(df_diabetes['Age'], bins=age_bins, labels=age_labels, include_lowest=True)\n",
    "\n",
    "#Group the data by age range and calculate the percentage of diabetes cases (Diabetes=1):\n",
    "age_diabetes = df_diabetes.groupby('AgeRange', observed=True)['y'].mean() * 100\n",
    "\n",
    "#Plot the data:\n",
    "plt.bar(age_diabetes.index, age_diabetes)\n",
    "plt.xlabel(\"Age Range\")\n",
    "plt.ylabel(\"Percentage with Diabetes\")\n",
    "plt.title(\"Diabetes Percentage by Age Range\")\n",
    "plt.show()"
   ]
  },
  {
   "cell_type": "markdown",
   "id": "fb1fb48f-b9f9-4229-bce1-6369669e68e1",
   "metadata": {},
   "source": [
    "#### BMI vs. Diabetes"
   ]
  },
  {
   "cell_type": "code",
   "execution_count": 11,
   "id": "8a4a6597-e06c-412c-8706-3f6f7ab32a94",
   "metadata": {},
   "outputs": [
    {
     "data": {
      "image/png": "[encoded data removed]",
      "text/plain": [
       "<Figure size 640x480 with 1 Axes>"
      ]
     },
     "metadata": {},
     "output_type": "display_data"
    }
   ],
   "source": [
    "# Define BMI ranges\n",
    "bmi_ranges = [0, 18.5, 24.9, 29.9, 34.9, 100]\n",
    "bmi_labels = ['Underweight', 'Normal', 'Overweight', 'Obese (I)', 'Obese (II+)']\n",
    "\n",
    "#Use the pd.cut function to categorize ages into age ranges:\n",
    "df_diabetes['BMIRange'] = pd.cut(df_diabetes['BMI'], bins=bmi_ranges, labels=bmi_labels, include_lowest=True)\n",
    "\n",
    "#Group the data by age range and calculate the percentage of diabetes cases (Diabetes=1):\n",
    "bmi_diabetes = df_diabetes.groupby('BMIRange', observed=True)['y'].mean() * 100\n",
    "\n",
    "#Plot the data:\n",
    "plt.bar(bmi_diabetes.index, bmi_diabetes)\n",
    "plt.xlabel(\"BMI Range\")\n",
    "plt.ylabel(\"Percentage with Diabetes\")\n",
    "plt.title(\"Diabetes Percentage by BMI Range\")\n",
    "plt.show()"
   ]
  },
  {
   "cell_type": "markdown",
   "id": "2c8fbb6b-a9f4-44c7-ad1f-1582df94e0ab",
   "metadata": {},
   "source": [
    "#### Glucose vs Diabetes"
   ]
  },
  {
   "cell_type": "code",
   "execution_count": 12,
   "id": "3539b82c-470d-4f34-aa50-fd202411165c",
   "metadata": {},
   "outputs": [
    {
     "data": {
      "image/png": "[encoded data removed]",
      "text/plain": [
       "<Figure size 640x480 with 1 Axes>"
      ]
     },
     "metadata": {},
     "output_type": "display_data"
    }
   ],
   "source": [
    "#Create two separate data series for diabetic and non-diabetic patients:\n",
    "glucose_diabetic = df_diabetes[df_diabetes['y'] == 1]['Glucose']\n",
    "\n",
    "glucose_non_diabetic = df_diabetes[df_diabetes['y'] == 0]['Glucose']\n",
    "# Define the bins (ranges) for the histogram\n",
    "bins = [50, 70, 100, 125, 150, 200, 250]\n",
    "\n",
    "# Plot histogram for diabetic patients\n",
    "plt.hist(glucose_diabetic, bins=bins, alpha=0.5, label='Diabetic', color='red')\n",
    "\n",
    "# Plot histogram for non-diabetic patients\n",
    "plt.hist(glucose_non_diabetic, bins=bins, alpha=0.5, label='Non-Diabetic', color='blue')\n",
    "\n",
    "# Labeling and legend\n",
    "plt.xlabel('Glucose Level')\n",
    "plt.ylabel('Frequency')\n",
    "plt.title('Glucose Distribution by Diabetes Status')\n",
    "plt.legend()\n",
    "\n",
    "# Show the plot\n",
    "plt.show()"
   ]
  },
  {
   "cell_type": "code",
   "execution_count": null,
   "id": "146dfbb4-aa5d-4d6e-a7d9-404925544f03",
   "metadata": {},
   "outputs": [],
   "source": []
  },
  {
   "cell_type": "markdown",
   "id": "3b5c037d-99b8-42c7-8d30-ac0947cbd502",
   "metadata": {},
   "source": [
    "## Data Cleaning"
   ]
  },
  {
   "cell_type": "code",
   "execution_count": 13,
   "id": "d896da13-733b-493c-bf4b-9ac24a8ac8a6",
   "metadata": {},
   "outputs": [
    {
     "name": "stdout",
     "output_type": "stream",
     "text": [
      "Pregnancies                 0.000000\n",
      "Glucose                     0.000000\n",
      "BloodPressure               0.000000\n",
      "SkinThickness               0.000000\n",
      "Insulin                     0.000000\n",
      "BMI                         0.000000\n",
      "DiabetesPedigreeFunction    0.000000\n",
      "Age                         0.000000\n",
      "y                           0.000000\n",
      "AgeRange                    0.130208\n",
      "BMIRange                    0.000000\n",
      "dtype: float64\n"
     ]
    }
   ],
   "source": [
    "# Missing value percentage checking\n",
    "missing_percentage = (df_diabetes.isnull().sum() / len(df_diabetes)) * 100\n",
    "\n",
    "# Show the missing percentage\n",
    "print(missing_percentage)"
   ]
  },
  {
   "cell_type": "markdown",
   "id": "f71b6cc8-6ca0-48ec-90fd-f88bda550332",
   "metadata": {},
   "source": [
    "#### Drop zero values"
   ]
  },
  {
   "cell_type": "code",
   "execution_count": 14,
   "id": "b7b42838-6b63-4793-9abd-1f39400c4456",
   "metadata": {},
   "outputs": [
    {
     "name": "stdout",
     "output_type": "stream",
     "text": [
      "Columns with zero values and their counts (excluding 'y'):\n",
      "Pregnancies      111\n",
      "Glucose            5\n",
      "BloodPressure     35\n",
      "SkinThickness    227\n",
      "Insulin          374\n",
      "BMI               11\n",
      "dtype: int64\n"
     ]
    }
   ],
   "source": [
    "# Exclude the 'y' column from the selection\n",
    "numeric_columns = df_diabetes.select_dtypes(include=['number']).drop(columns=['y'])\n",
    "\n",
    "# Count the number of zeros in each selected column\n",
    "zero_counts = numeric_columns.eq(0).sum()\n",
    "\n",
    "# Print the columns with zero counts\n",
    "print(\"Columns with zero values and their counts (excluding 'y'):\")\n",
    "print(zero_counts[zero_counts > 0])"
   ]
  },
  {
   "cell_type": "markdown",
   "id": "d4ef055f-897b-4e87-8d8e-6ab5b8590614",
   "metadata": {},
   "source": [
    "Since `SkinThickness` and `Insulin` has many zeros, we drop them"
   ]
  },
  {
   "cell_type": "code",
   "execution_count": 15,
   "id": "9b6fba6d-289c-4871-8782-98788450e3db",
   "metadata": {},
   "outputs": [],
   "source": [
    "columns_to_drop = ['SkinThickness', 'Insulin', 'AgeRange', 'BMIRange']\n",
    "df_new = df_diabetes.drop(columns_to_drop, axis=1)"
   ]
  },
  {
   "cell_type": "code",
   "execution_count": 16,
   "id": "ad8ab56d-da37-4cf1-b810-270f251219ec",
   "metadata": {},
   "outputs": [
    {
     "name": "stdout",
     "output_type": "stream",
     "text": [
      "<class 'pandas.core.frame.DataFrame'>\n",
      "RangeIndex: 768 entries, 0 to 767\n",
      "Data columns (total 7 columns):\n",
      " #   Column                    Non-Null Count  Dtype  \n",
      "---  ------                    --------------  -----  \n",
      " 0   Pregnancies               768 non-null    int64  \n",
      " 1   Glucose                   768 non-null    int64  \n",
      " 2   BloodPressure             768 non-null    int64  \n",
      " 3   BMI                       768 non-null    float64\n",
      " 4   DiabetesPedigreeFunction  768 non-null    float64\n",
      " 5   Age                       768 non-null    int64  \n",
      " 6   y                         768 non-null    int64  \n",
      "dtypes: float64(2), int64(5)\n",
      "memory usage: 42.1 KB\n"
     ]
    }
   ],
   "source": [
    "df_new.info()"
   ]
  },
  {
   "cell_type": "code",
   "execution_count": 17,
   "id": "dcf0da4e-081b-4ce4-a76c-94d874778f21",
   "metadata": {},
   "outputs": [
    {
     "data": {
      "text/html": [
       "<div>\n",
       "<style scoped>\n",
       "    .dataframe tbody tr th:only-of-type {\n",
       "        vertical-align: middle;\n",
       "    }\n",
       "\n",
       "    .dataframe tbody tr th {\n",
       "        vertical-align: top;\n",
       "    }\n",
       "\n",
       "    .dataframe thead th {\n",
       "        text-align: right;\n",
       "    }\n",
       "</style>\n",
       "<table border=\"1\" class=\"dataframe\">\n",
       "  <thead>\n",
       "    <tr style=\"text-align: right;\">\n",
       "      <th></th>\n",
       "      <th>Pregnancies</th>\n",
       "      <th>Glucose</th>\n",
       "      <th>BloodPressure</th>\n",
       "      <th>BMI</th>\n",
       "      <th>DiabetesPedigreeFunction</th>\n",
       "      <th>Age</th>\n",
       "      <th>y</th>\n",
       "    </tr>\n",
       "  </thead>\n",
       "  <tbody>\n",
       "    <tr>\n",
       "      <th>0</th>\n",
       "      <td>6</td>\n",
       "      <td>148</td>\n",
       "      <td>72</td>\n",
       "      <td>33.6</td>\n",
       "      <td>0.627</td>\n",
       "      <td>50</td>\n",
       "      <td>1</td>\n",
       "    </tr>\n",
       "    <tr>\n",
       "      <th>1</th>\n",
       "      <td>1</td>\n",
       "      <td>85</td>\n",
       "      <td>66</td>\n",
       "      <td>26.6</td>\n",
       "      <td>0.351</td>\n",
       "      <td>31</td>\n",
       "      <td>0</td>\n",
       "    </tr>\n",
       "    <tr>\n",
       "      <th>2</th>\n",
       "      <td>8</td>\n",
       "      <td>183</td>\n",
       "      <td>64</td>\n",
       "      <td>23.3</td>\n",
       "      <td>0.672</td>\n",
       "      <td>32</td>\n",
       "      <td>1</td>\n",
       "    </tr>\n",
       "    <tr>\n",
       "      <th>3</th>\n",
       "      <td>1</td>\n",
       "      <td>89</td>\n",
       "      <td>66</td>\n",
       "      <td>28.1</td>\n",
       "      <td>0.167</td>\n",
       "      <td>21</td>\n",
       "      <td>0</td>\n",
       "    </tr>\n",
       "    <tr>\n",
       "      <th>4</th>\n",
       "      <td>0</td>\n",
       "      <td>137</td>\n",
       "      <td>40</td>\n",
       "      <td>43.1</td>\n",
       "      <td>2.288</td>\n",
       "      <td>33</td>\n",
       "      <td>1</td>\n",
       "    </tr>\n",
       "    <tr>\n",
       "      <th>...</th>\n",
       "      <td>...</td>\n",
       "      <td>...</td>\n",
       "      <td>...</td>\n",
       "      <td>...</td>\n",
       "      <td>...</td>\n",
       "      <td>...</td>\n",
       "      <td>...</td>\n",
       "    </tr>\n",
       "    <tr>\n",
       "      <th>763</th>\n",
       "      <td>10</td>\n",
       "      <td>101</td>\n",
       "      <td>76</td>\n",
       "      <td>32.9</td>\n",
       "      <td>0.171</td>\n",
       "      <td>63</td>\n",
       "      <td>0</td>\n",
       "    </tr>\n",
       "    <tr>\n",
       "      <th>764</th>\n",
       "      <td>2</td>\n",
       "      <td>122</td>\n",
       "      <td>70</td>\n",
       "      <td>36.8</td>\n",
       "      <td>0.340</td>\n",
       "      <td>27</td>\n",
       "      <td>0</td>\n",
       "    </tr>\n",
       "    <tr>\n",
       "      <th>765</th>\n",
       "      <td>5</td>\n",
       "      <td>121</td>\n",
       "      <td>72</td>\n",
       "      <td>26.2</td>\n",
       "      <td>0.245</td>\n",
       "      <td>30</td>\n",
       "      <td>0</td>\n",
       "    </tr>\n",
       "    <tr>\n",
       "      <th>766</th>\n",
       "      <td>1</td>\n",
       "      <td>126</td>\n",
       "      <td>60</td>\n",
       "      <td>30.1</td>\n",
       "      <td>0.349</td>\n",
       "      <td>47</td>\n",
       "      <td>1</td>\n",
       "    </tr>\n",
       "    <tr>\n",
       "      <th>767</th>\n",
       "      <td>1</td>\n",
       "      <td>93</td>\n",
       "      <td>70</td>\n",
       "      <td>30.4</td>\n",
       "      <td>0.315</td>\n",
       "      <td>23</td>\n",
       "      <td>0</td>\n",
       "    </tr>\n",
       "  </tbody>\n",
       "</table>\n",
       "<p>768 rows × 7 columns</p>\n",
       "</div>"
      ],
      "text/plain": [
       "     Pregnancies  Glucose  BloodPressure   BMI  DiabetesPedigreeFunction  Age  \\\n",
       "0              6      148             72  33.6                     0.627   50   \n",
       "1              1       85             66  26.6                     0.351   31   \n",
       "2              8      183             64  23.3                     0.672   32   \n",
       "3              1       89             66  28.1                     0.167   21   \n",
       "4              0      137             40  43.1                     2.288   33   \n",
       "..           ...      ...            ...   ...                       ...  ...   \n",
       "763           10      101             76  32.9                     0.171   63   \n",
       "764            2      122             70  36.8                     0.340   27   \n",
       "765            5      121             72  26.2                     0.245   30   \n",
       "766            1      126             60  30.1                     0.349   47   \n",
       "767            1       93             70  30.4                     0.315   23   \n",
       "\n",
       "     y  \n",
       "0    1  \n",
       "1    0  \n",
       "2    1  \n",
       "3    0  \n",
       "4    1  \n",
       "..  ..  \n",
       "763  0  \n",
       "764  0  \n",
       "765  0  \n",
       "766  1  \n",
       "767  0  \n",
       "\n",
       "[768 rows x 7 columns]"
      ]
     },
     "execution_count": 17,
     "metadata": {},
     "output_type": "execute_result"
    }
   ],
   "source": [
    "df_new"
   ]
  },
  {
   "cell_type": "markdown",
   "id": "955b9f8b-4717-4270-9d8d-3c4df2e2fa7c",
   "metadata": {},
   "source": [
    "#### Treating the zero values in the rest of the columns\n",
    "\n",
    "We will replace the 0 values with mean / median value"
   ]
  },
  {
   "cell_type": "code",
   "execution_count": 18,
   "id": "8d43ea7a-5cbd-4fb8-9119-d9d4d288c213",
   "metadata": {},
   "outputs": [
    {
     "name": "stdout",
     "output_type": "stream",
     "text": [
      "Pregnancies                 0.901674\n",
      "Glucose                     0.173754\n",
      "BloodPressure              -1.843608\n",
      "BMI                        -0.428982\n",
      "DiabetesPedigreeFunction    1.919911\n",
      "Age                         1.129597\n",
      "y                           0.635017\n",
      "dtype: float64\n"
     ]
    }
   ],
   "source": [
    "# Calculate the skewness for all numerical columns\n",
    "skewness = df_new.skew()\n",
    "\n",
    "# Print the skewness values\n",
    "print(skewness)"
   ]
  },
  {
   "cell_type": "code",
   "execution_count": 19,
   "id": "c48145d2-beff-4901-9665-bed59ddfa5b2",
   "metadata": {},
   "outputs": [],
   "source": [
    "# Calculate mean and median (excluding zeros)\n",
    "mean_glucose = df_new[df_new['Glucose'] != 0]['Glucose'].mean()\n",
    "median_bmi = df_new[df_new['BMI'] != 0]['BMI'].median()\n",
    "median_bp = df_new[df_new['BloodPressure'] != 0]['BloodPressure'].median()"
   ]
  },
  {
   "cell_type": "code",
   "execution_count": 20,
   "id": "40e913ca-61fa-4527-b70a-90dc6a702b0e",
   "metadata": {},
   "outputs": [],
   "source": [
    "# Replace zeros across multiple columns at once\n",
    "df_new.replace({\n",
    "    'Glucose': {0: mean_glucose},\n",
    "    'BMI': {0: median_bmi},\n",
    "    'BloodPressure': {0: median_bp}\n",
    "}, inplace=True)"
   ]
  },
  {
   "cell_type": "code",
   "execution_count": 21,
   "id": "ba094971-c570-41b8-ae16-6232e1608f9f",
   "metadata": {},
   "outputs": [
    {
     "name": "stdout",
     "output_type": "stream",
     "text": [
      "Columns with zero values and their counts (excluding 'y'):\n",
      "Pregnancies    111\n",
      "dtype: int64\n"
     ]
    }
   ],
   "source": [
    "# Exclude the 'y' column from the selection\n",
    "numeric_columns = df_new.select_dtypes(include=['number']).drop(columns=['y'])\n",
    "\n",
    "# Count the number of zeros in each selected column\n",
    "zero_counts = numeric_columns.eq(0).sum()\n",
    "\n",
    "# Print the columns with zero counts\n",
    "print(\"Columns with zero values and their counts (excluding 'y'):\")\n",
    "print(zero_counts[zero_counts > 0])"
   ]
  },
  {
   "cell_type": "markdown",
   "id": "ce6c6f61-ed0b-4f9e-8d9d-b17557d3c106",
   "metadata": {},
   "source": [
    "## Train - Test Data Split and Processing"
   ]
  },
  {
   "cell_type": "code",
   "execution_count": 22,
   "id": "48b1f196-29bf-4b6a-9077-d1d3518af98b",
   "metadata": {},
   "outputs": [
    {
     "data": {
      "text/html": [
       "<div>\n",
       "<style scoped>\n",
       "    .dataframe tbody tr th:only-of-type {\n",
       "        vertical-align: middle;\n",
       "    }\n",
       "\n",
       "    .dataframe tbody tr th {\n",
       "        vertical-align: top;\n",
       "    }\n",
       "\n",
       "    .dataframe thead th {\n",
       "        text-align: right;\n",
       "    }\n",
       "</style>\n",
       "<table border=\"1\" class=\"dataframe\">\n",
       "  <thead>\n",
       "    <tr style=\"text-align: right;\">\n",
       "      <th></th>\n",
       "      <th>Pregnancies</th>\n",
       "      <th>Glucose</th>\n",
       "      <th>BloodPressure</th>\n",
       "      <th>BMI</th>\n",
       "      <th>DiabetesPedigreeFunction</th>\n",
       "      <th>Age</th>\n",
       "      <th>y</th>\n",
       "    </tr>\n",
       "  </thead>\n",
       "  <tbody>\n",
       "    <tr>\n",
       "      <th>0</th>\n",
       "      <td>6</td>\n",
       "      <td>148.0</td>\n",
       "      <td>72</td>\n",
       "      <td>33.6</td>\n",
       "      <td>0.627</td>\n",
       "      <td>50</td>\n",
       "      <td>1</td>\n",
       "    </tr>\n",
       "    <tr>\n",
       "      <th>1</th>\n",
       "      <td>1</td>\n",
       "      <td>85.0</td>\n",
       "      <td>66</td>\n",
       "      <td>26.6</td>\n",
       "      <td>0.351</td>\n",
       "      <td>31</td>\n",
       "      <td>0</td>\n",
       "    </tr>\n",
       "    <tr>\n",
       "      <th>2</th>\n",
       "      <td>8</td>\n",
       "      <td>183.0</td>\n",
       "      <td>64</td>\n",
       "      <td>23.3</td>\n",
       "      <td>0.672</td>\n",
       "      <td>32</td>\n",
       "      <td>1</td>\n",
       "    </tr>\n",
       "    <tr>\n",
       "      <th>3</th>\n",
       "      <td>1</td>\n",
       "      <td>89.0</td>\n",
       "      <td>66</td>\n",
       "      <td>28.1</td>\n",
       "      <td>0.167</td>\n",
       "      <td>21</td>\n",
       "      <td>0</td>\n",
       "    </tr>\n",
       "    <tr>\n",
       "      <th>4</th>\n",
       "      <td>0</td>\n",
       "      <td>137.0</td>\n",
       "      <td>40</td>\n",
       "      <td>43.1</td>\n",
       "      <td>2.288</td>\n",
       "      <td>33</td>\n",
       "      <td>1</td>\n",
       "    </tr>\n",
       "    <tr>\n",
       "      <th>...</th>\n",
       "      <td>...</td>\n",
       "      <td>...</td>\n",
       "      <td>...</td>\n",
       "      <td>...</td>\n",
       "      <td>...</td>\n",
       "      <td>...</td>\n",
       "      <td>...</td>\n",
       "    </tr>\n",
       "    <tr>\n",
       "      <th>763</th>\n",
       "      <td>10</td>\n",
       "      <td>101.0</td>\n",
       "      <td>76</td>\n",
       "      <td>32.9</td>\n",
       "      <td>0.171</td>\n",
       "      <td>63</td>\n",
       "      <td>0</td>\n",
       "    </tr>\n",
       "    <tr>\n",
       "      <th>764</th>\n",
       "      <td>2</td>\n",
       "      <td>122.0</td>\n",
       "      <td>70</td>\n",
       "      <td>36.8</td>\n",
       "      <td>0.340</td>\n",
       "      <td>27</td>\n",
       "      <td>0</td>\n",
       "    </tr>\n",
       "    <tr>\n",
       "      <th>765</th>\n",
       "      <td>5</td>\n",
       "      <td>121.0</td>\n",
       "      <td>72</td>\n",
       "      <td>26.2</td>\n",
       "      <td>0.245</td>\n",
       "      <td>30</td>\n",
       "      <td>0</td>\n",
       "    </tr>\n",
       "    <tr>\n",
       "      <th>766</th>\n",
       "      <td>1</td>\n",
       "      <td>126.0</td>\n",
       "      <td>60</td>\n",
       "      <td>30.1</td>\n",
       "      <td>0.349</td>\n",
       "      <td>47</td>\n",
       "      <td>1</td>\n",
       "    </tr>\n",
       "    <tr>\n",
       "      <th>767</th>\n",
       "      <td>1</td>\n",
       "      <td>93.0</td>\n",
       "      <td>70</td>\n",
       "      <td>30.4</td>\n",
       "      <td>0.315</td>\n",
       "      <td>23</td>\n",
       "      <td>0</td>\n",
       "    </tr>\n",
       "  </tbody>\n",
       "</table>\n",
       "<p>768 rows × 7 columns</p>\n",
       "</div>"
      ],
      "text/plain": [
       "     Pregnancies  Glucose  BloodPressure   BMI  DiabetesPedigreeFunction  Age  \\\n",
       "0              6    148.0             72  33.6                     0.627   50   \n",
       "1              1     85.0             66  26.6                     0.351   31   \n",
       "2              8    183.0             64  23.3                     0.672   32   \n",
       "3              1     89.0             66  28.1                     0.167   21   \n",
       "4              0    137.0             40  43.1                     2.288   33   \n",
       "..           ...      ...            ...   ...                       ...  ...   \n",
       "763           10    101.0             76  32.9                     0.171   63   \n",
       "764            2    122.0             70  36.8                     0.340   27   \n",
       "765            5    121.0             72  26.2                     0.245   30   \n",
       "766            1    126.0             60  30.1                     0.349   47   \n",
       "767            1     93.0             70  30.4                     0.315   23   \n",
       "\n",
       "     y  \n",
       "0    1  \n",
       "1    0  \n",
       "2    1  \n",
       "3    0  \n",
       "4    1  \n",
       "..  ..  \n",
       "763  0  \n",
       "764  0  \n",
       "765  0  \n",
       "766  1  \n",
       "767  0  \n",
       "\n",
       "[768 rows x 7 columns]"
      ]
     },
     "execution_count": 22,
     "metadata": {},
     "output_type": "execute_result"
    }
   ],
   "source": [
    "df_new"
   ]
  },
  {
   "cell_type": "code",
   "execution_count": 23,
   "id": "b3654670-47b7-42da-85ba-4a73c0290a4c",
   "metadata": {},
   "outputs": [
    {
     "name": "stdout",
     "output_type": "stream",
     "text": [
      "(768, 6)\n"
     ]
    }
   ],
   "source": [
    "features = df_new.values[:,:6]\n",
    "print(features.shape)"
   ]
  },
  {
   "cell_type": "code",
   "execution_count": 24,
   "id": "bedadd0b-be96-4d60-b1f6-c7aaf09b2057",
   "metadata": {},
   "outputs": [
    {
     "name": "stdout",
     "output_type": "stream",
     "text": [
      "(768, 1)\n"
     ]
    }
   ],
   "source": [
    "labels = df_new.values[:,6:]\n",
    "print(labels.shape)"
   ]
  },
  {
   "cell_type": "code",
   "execution_count": 25,
   "id": "cd9fd187-8f3f-42fe-82f6-0dca99e52a89",
   "metadata": {},
   "outputs": [],
   "source": [
    "# Split your dataset into training and test sets\n",
    "from sklearn.model_selection import train_test_split\n",
    "X_train, X_test, y_train, y_test = train_test_split(features, \n",
    "                                                    labels, \n",
    "                                                    test_size=0.2, \n",
    "                                                    random_state=95)"
   ]
  },
  {
   "cell_type": "code",
   "execution_count": 26,
   "id": "17312300-c459-4d14-9be7-0a398758ddf8",
   "metadata": {},
   "outputs": [
    {
     "name": "stdout",
     "output_type": "stream",
     "text": [
      "X_train.shape = (614, 6), y_train.shape = (614, 1)\n",
      "X_test.shape = (154, 6), y_test.shape = (154, 1)\n"
     ]
    }
   ],
   "source": [
    "print(f\"{X_train.shape = }, {y_train.shape = }\")\n",
    "print(f\"{X_test.shape = }, {y_test.shape = }\")"
   ]
  },
  {
   "cell_type": "markdown",
   "id": "dc16a632-b924-4cb8-bb7e-5bbd4a6c1526",
   "metadata": {},
   "source": [
    "#### Apply SMOTE to the training data\n",
    "\n",
    "SMOTE is a statistical technique for dealing with imbalanced datasets, since we have an imbalance between diabetic and non-diabetic cases (~35% vs ~65% as shown in the pie chart). What SMOTE does:\n",
    "- Identifies minority class samples: In this case, patients with diabetes (class 1)\n",
    "- Creates synthetic examples: Instead of simply duplicating minority samples, SMOTE:\n",
    "    - Selects a minority class sample\n",
    "    - Finds its k-nearest neighbors (other minority samples)\n",
    "    - Generates new synthetic samples along the lines connecting the sample and its neighbors\n",
    "    - Balances the dataset: The resulting training data (`X_train_resampled`, `y_train_resampled`) has equal representation of both classes"
   ]
  },
  {
   "cell_type": "code",
   "execution_count": 27,
   "id": "6600d890-5e5d-4267-8b52-c9a9e294b4f8",
   "metadata": {},
   "outputs": [
    {
     "name": "stdout",
     "output_type": "stream",
     "text": [
      "X_train_resampled.shape = (800, 6), y_train_resampled.shape = (800,)\n"
     ]
    }
   ],
   "source": [
    "import imblearn\n",
    "from imblearn.over_sampling import SMOTE\n",
    "\n",
    "smote = SMOTE(random_state=42)\n",
    "X_train_resampled, y_train_resampled = smote.fit_resample(X_train, y_train)\n",
    "\n",
    "print(f\"{X_train_resampled.shape = }, {y_train_resampled.shape = }\")"
   ]
  },
  {
   "cell_type": "code",
   "execution_count": 28,
   "id": "75f1d107-948b-4aae-9024-d54dfc73814c",
   "metadata": {},
   "outputs": [
    {
     "name": "stdout",
     "output_type": "stream",
     "text": [
      "Number of 1s: 400\n",
      "Number of 0s: 400\n"
     ]
    }
   ],
   "source": [
    "import numpy as np\n",
    "\n",
    "num_ones = np.sum(y_train_resampled == 1)\n",
    "num_zeros = np.sum(y_train_resampled == 0)\n",
    "\n",
    "print(f\"Number of 1s: {num_ones}\")\n",
    "print(f\"Number of 0s: {num_zeros}\")"
   ]
  },
  {
   "cell_type": "markdown",
   "id": "04c57b46-c090-4bc9-99c8-eceb6ba64066",
   "metadata": {},
   "source": [
    "#### Scale the data\n",
    "Transforms each feature (column) using: `(x - mean) / std_dev`  \n",
    "Benefits:\n",
    "- Equalizes feature scales: Features like Glucose (70-200) and Pregnancies (0-17) are brought to the same scale\n",
    "- Improves neural network performance: The model won't be biased toward features with larger values\n",
    "- Speeds up gradient descent: Optimization converges faster with standardized data\n",
    "- Reduces sensitivity to outliers: Using unit variance makes the model more robust"
   ]
  },
  {
   "cell_type": "code",
   "execution_count": 29,
   "id": "ae4d94ee-4a68-4cac-a975-91a423b5eabf",
   "metadata": {},
   "outputs": [],
   "source": [
    "from sklearn.preprocessing import StandardScaler\n",
    "\n",
    "scaler = StandardScaler()\n",
    "X_train_resampled = scaler.fit_transform(X_train_resampled)\n",
    "X_test = scaler.transform(X_test)"
   ]
  },
  {
   "cell_type": "code",
   "execution_count": 30,
   "id": "f30d1bce-0cf9-4cf3-8044-e18d4e14ad07",
   "metadata": {},
   "outputs": [
    {
     "name": "stdout",
     "output_type": "stream",
     "text": [
      "X_train_resampled.shape = (800, 6), y_train_resampled.shape = (800,)\n",
      "X_test.shape = (154, 6), y_test.shape = (154, 1)\n"
     ]
    }
   ],
   "source": [
    "print(f\"{X_train_resampled.shape = }, {y_train_resampled.shape = }\")\n",
    "print(f\"{X_test.shape = }, {y_test.shape = }\")"
   ]
  },
  {
   "cell_type": "markdown",
   "id": "b066a83b",
   "metadata": {},
   "source": [
    "## Model Training"
   ]
  },
  {
   "cell_type": "code",
   "execution_count": 31,
   "id": "bf8a207d-438c-48e0-a85e-25caaffba6bb",
   "metadata": {},
   "outputs": [],
   "source": [
    "from loguru import logger\n",
    "import torch\n",
    "import torch.nn as nn\n",
    "import torch.optim as optim\n",
    "from torch.utils.data import TensorDataset, DataLoader\n",
    "import numpy as np\n",
    "import matplotlib.pyplot as plt\n",
    "from safetensors.torch import save_file, load_file\n"
   ]
  },
  {
   "cell_type": "code",
   "execution_count": 32,
   "id": "408d800a",
   "metadata": {},
   "outputs": [
    {
     "name": "stderr",
     "output_type": "stream",
     "text": [
      "\u001b[32m2025-05-09 17:31:47.980\u001b[0m | \u001b[1mINFO    \u001b[0m | \u001b[36m__main__\u001b[0m:\u001b[36m<module>\u001b[0m:\u001b[36m18\u001b[0m - \u001b[1mUsing device: mps\u001b[0m\n"
     ]
    }
   ],
   "source": [
    "def get_device():\n",
    "    if torch.cuda.is_available():\n",
    "        return torch.device(\"cuda\")\n",
    "    elif torch.backends.mps.is_available():\n",
    "        return torch.device(\"mps\")\n",
    "    elif torch.backends.xla.is_available():\n",
    "        return torch.device(\"xla\")\n",
    "    elif torch.backends.xpu.is_available():\n",
    "        return torch.device(\"xpu\")\n",
    "    elif torch.backends.ipu.is_available():\n",
    "        return torch.device(\"ipu\")\n",
    "    elif torch.backends.meta.is_available():\n",
    "        return torch.device(\"meta\")\n",
    "    else:\n",
    "        return torch.device(\"cpu\")\n",
    "\n",
    "DEVICE = get_device()\n",
    "logger.info(f\"Using device: {DEVICE}\")"
   ]
  },
  {
   "cell_type": "markdown",
   "id": "ae0cb0cb",
   "metadata": {},
   "source": [
    "#### DataLoader"
   ]
  },
  {
   "cell_type": "code",
   "execution_count": 33,
   "id": "6aa2aa14",
   "metadata": {},
   "outputs": [],
   "source": [
    "# Convert numpy arrays to PyTorch tensors\n",
    "X_train_tensor = torch.FloatTensor(X_train_resampled)\n",
    "y_train_tensor = torch.FloatTensor(y_train_resampled).reshape(-1, 1)  # Add this reshape\n",
    "X_test_tensor = torch.FloatTensor(X_test)\n",
    "y_test_tensor = torch.FloatTensor(y_test).reshape(-1, 1)\n",
    "\n",
    "# Create datasets and dataloaders\n",
    "train_dataset = TensorDataset(X_train_tensor, y_train_tensor)\n",
    "test_dataset = TensorDataset(X_test_tensor, y_test_tensor)\n",
    "train_loader = DataLoader(dataset=train_dataset, batch_size=10, shuffle=True)\n",
    "test_loader = DataLoader(dataset=test_dataset, batch_size=len(test_dataset), shuffle=False)"
   ]
  },
  {
   "cell_type": "markdown",
   "id": "91ba0f8c",
   "metadata": {},
   "source": [
    "#### Model Architecture"
   ]
  },
  {
   "cell_type": "code",
   "execution_count": 34,
   "id": "2e8bf77b",
   "metadata": {},
   "outputs": [],
   "source": [
    "class Net(nn.Module):\n",
    "    def __init__(self, input_dim=6):\n",
    "        super(Net, self).__init__()\n",
    "        # First layer with more units and batch normalization\n",
    "        self.layer1 = nn.Sequential(\n",
    "            nn.Linear(input_dim, 32),  # Increased from 20 to 32\n",
    "            nn.BatchNorm1d(32),        # Added batch normalization\n",
    "            nn.LeakyReLU(0.1),         # LeakyReLU instead of ReLU\n",
    "            nn.Dropout(0.2)            # Increased dropout\n",
    "        )\n",
    "        \n",
    "        # Second layer with more units\n",
    "        self.layer2 = nn.Sequential(\n",
    "            nn.Linear(32, 24),         # Increased from 14 to 24\n",
    "            nn.BatchNorm1d(24),        # Added batch normalization\n",
    "            nn.LeakyReLU(0.1),\n",
    "            nn.Dropout(0.25)\n",
    "        )\n",
    "        \n",
    "        # Third layer\n",
    "        self.layer3 = nn.Sequential(\n",
    "            nn.Linear(24, 16),         \n",
    "            nn.BatchNorm1d(16),\n",
    "            nn.LeakyReLU(0.1)\n",
    "        )\n",
    "        \n",
    "        # Output layer\n",
    "        self.output_layer = nn.Sequential(\n",
    "            nn.Linear(16, 1),\n",
    "            nn.Sigmoid()\n",
    "        )\n",
    "    \n",
    "    def forward(self, x):\n",
    "        x = self.layer1(x)\n",
    "        x = self.layer2(x)\n",
    "        x = self.layer3(x)\n",
    "        x = self.output_layer(x)\n",
    "        return x\n",
    "\n",
    "# Initialize the improved model with weight decay\n",
    "model = Net().to(DEVICE)\n",
    "criterion = nn.BCELoss()\n",
    "\n",
    "# Improved optimizer settings\n",
    "optimizer = optim.Adam(\n",
    "    model.parameters(), \n",
    "    lr=0.001,            # Increased learning rate from 0.0001\n",
    "    weight_decay=0.0005  # Added L2 regularization\n",
    ")\n",
    "\n",
    "# Add learning rate scheduler\n",
    "scheduler = optim.lr_scheduler.ReduceLROnPlateau(\n",
    "    optimizer, \n",
    "    mode='max', \n",
    "    factor=0.5, \n",
    "    patience=10, \n",
    ")"
   ]
  },
  {
   "cell_type": "markdown",
   "id": "8f930c20",
   "metadata": {},
   "source": [
    "#### Train and Eval"
   ]
  },
  {
   "cell_type": "code",
   "execution_count": 35,
   "id": "6c8f5ba0",
   "metadata": {},
   "outputs": [],
   "source": [
    "Path(\"./weights\").mkdir(parents=True, exist_ok=True)\n",
    "WEIGHT_PATH = Path(\"./weights/local_training_diabetes_model.safetensors\")\n",
    "\n",
    "# Training function\n",
    "def train_model(model, train_loader, test_loader, criterion, optimizer, epochs = 100):\n",
    "    history = {'train_loss': [], 'train_acc': [], 'val_loss': [], 'val_acc': []}\n",
    "    best_val_acc = 0.0\n",
    "    \n",
    "    for epoch in range(epochs):\n",
    "        # Training phase\n",
    "        model.train()\n",
    "        running_loss = 0.0\n",
    "        correct = 0\n",
    "        total = 0\n",
    "        \n",
    "        for inputs, labels in train_loader:\n",
    "            inputs, labels = inputs.to(DEVICE), labels.to(DEVICE)\n",
    "            \n",
    "            optimizer.zero_grad()\n",
    "            outputs = model(inputs)\n",
    "            loss = criterion(outputs, labels)\n",
    "            loss.backward()\n",
    "            optimizer.step()\n",
    "            \n",
    "            running_loss += loss.item() * inputs.size(0)\n",
    "            predicted = (outputs > 0.5).float()\n",
    "            total += labels.size(0)\n",
    "            correct += (predicted == labels).sum().item()\n",
    "        \n",
    "        epoch_loss = running_loss / len(train_loader.dataset)\n",
    "        epoch_acc = correct / total\n",
    "        history['train_loss'].append(epoch_loss)\n",
    "        history['train_acc'].append(epoch_acc)\n",
    "        \n",
    "        # Validation phase\n",
    "        val_loss, val_acc = evaluate_model(model, test_loader, criterion)\n",
    "        history['val_loss'].append(val_loss)\n",
    "        history['val_acc'].append(val_acc)\n",
    "        \n",
    "        scheduler.step(val_acc)\n",
    "        \n",
    "        print(f'Epoch {epoch+1}/{epochs} | '\n",
    "            f'Train Loss: {epoch_loss:.4f} | '\n",
    "            f'Train Acc: {epoch_acc:.4f} | '\n",
    "            f'Val Loss: {val_loss:.4f} | '\n",
    "            f'Val Acc: {val_acc:.4f}')\n",
    "        \n",
    "        # Early stopping\n",
    "        if val_acc > best_val_acc:\n",
    "            best_val_acc = val_acc\n",
    "            save_file(model.state_dict(), WEIGHT_PATH)\n",
    "            print(f'\\n Find best model with val_acc {best_val_acc}. saved model to {WEIGHT_PATH}')\n",
    "    \n",
    "    return history"
   ]
  },
  {
   "cell_type": "code",
   "execution_count": 36,
   "id": "b0d13ae0",
   "metadata": {},
   "outputs": [],
   "source": [
    "# Evaluation function\n",
    "def evaluate_model(model, data_loader, criterion):\n",
    "    model.eval()\n",
    "    running_loss = 0.0\n",
    "    correct = 0\n",
    "    total = 0\n",
    "    \n",
    "    with torch.no_grad():\n",
    "        for inputs, labels in data_loader:\n",
    "            inputs, labels = inputs.to(DEVICE), labels.to(DEVICE)\n",
    "            outputs = model(inputs)\n",
    "            loss = criterion(outputs, labels)\n",
    "            \n",
    "            running_loss += loss.item() * inputs.size(0)\n",
    "            predicted = (outputs > 0.5).float()\n",
    "            total += labels.size(0)\n",
    "            correct += (predicted == labels).sum().item()\n",
    "    \n",
    "    epoch_loss = running_loss / len(data_loader.dataset)\n",
    "    epoch_acc = correct / total\n",
    "    \n",
    "    return epoch_loss, epoch_acc"
   ]
  },
  {
   "cell_type": "code",
   "execution_count": 37,
   "id": "9458df7e",
   "metadata": {},
   "outputs": [
    {
     "name": "stdout",
     "output_type": "stream",
     "text": [
      "Epoch 1/100 | Train Loss: 0.6486 | Train Acc: 0.6175 | Val Loss: 0.5828 | Val Acc: 0.7597\n",
      "\n",
      " Find best model with val_acc 0.7597402597402597. saved model to weights/local_training_diabetes_model.safetensors\n",
      "Epoch 2/100 | Train Loss: 0.5748 | Train Acc: 0.6863 | Val Loss: 0.5278 | Val Acc: 0.7727\n",
      "\n",
      " Find best model with val_acc 0.7727272727272727. saved model to weights/local_training_diabetes_model.safetensors\n",
      "Epoch 3/100 | Train Loss: 0.5439 | Train Acc: 0.7275 | Val Loss: 0.4917 | Val Acc: 0.7922\n",
      "\n",
      " Find best model with val_acc 0.7922077922077922. saved model to weights/local_training_diabetes_model.safetensors\n",
      "Epoch 4/100 | Train Loss: 0.5247 | Train Acc: 0.7512 | Val Loss: 0.5042 | Val Acc: 0.7987\n",
      "\n",
      " Find best model with val_acc 0.7987012987012987. saved model to weights/local_training_diabetes_model.safetensors\n",
      "Epoch 5/100 | Train Loss: 0.5287 | Train Acc: 0.7300 | Val Loss: 0.5067 | Val Acc: 0.7792\n",
      "Epoch 6/100 | Train Loss: 0.5214 | Train Acc: 0.7588 | Val Loss: 0.5192 | Val Acc: 0.7662\n",
      "Epoch 7/100 | Train Loss: 0.5137 | Train Acc: 0.7438 | Val Loss: 0.4908 | Val Acc: 0.7792\n",
      "Epoch 8/100 | Train Loss: 0.5161 | Train Acc: 0.7512 | Val Loss: 0.5027 | Val Acc: 0.7987\n",
      "Epoch 9/100 | Train Loss: 0.5235 | Train Acc: 0.7300 | Val Loss: 0.4980 | Val Acc: 0.8117\n",
      "\n",
      " Find best model with val_acc 0.8116883116883117. saved model to weights/local_training_diabetes_model.safetensors\n",
      "Epoch 10/100 | Train Loss: 0.5449 | Train Acc: 0.7388 | Val Loss: 0.5037 | Val Acc: 0.7792\n",
      "Epoch 11/100 | Train Loss: 0.5241 | Train Acc: 0.7400 | Val Loss: 0.4891 | Val Acc: 0.7987\n",
      "Epoch 12/100 | Train Loss: 0.5133 | Train Acc: 0.7525 | Val Loss: 0.4788 | Val Acc: 0.8052\n",
      "Epoch 13/100 | Train Loss: 0.5017 | Train Acc: 0.7612 | Val Loss: 0.4637 | Val Acc: 0.8117\n",
      "Epoch 14/100 | Train Loss: 0.5280 | Train Acc: 0.7225 | Val Loss: 0.4884 | Val Acc: 0.8052\n",
      "Epoch 15/100 | Train Loss: 0.4970 | Train Acc: 0.7512 | Val Loss: 0.4786 | Val Acc: 0.7987\n",
      "Epoch 16/100 | Train Loss: 0.5099 | Train Acc: 0.7688 | Val Loss: 0.4865 | Val Acc: 0.7987\n",
      "Epoch 17/100 | Train Loss: 0.5044 | Train Acc: 0.7662 | Val Loss: 0.4821 | Val Acc: 0.7922\n",
      "Epoch 18/100 | Train Loss: 0.5064 | Train Acc: 0.7475 | Val Loss: 0.4866 | Val Acc: 0.8052\n",
      "Epoch 19/100 | Train Loss: 0.4965 | Train Acc: 0.7550 | Val Loss: 0.4945 | Val Acc: 0.7922\n",
      "Epoch 20/100 | Train Loss: 0.5085 | Train Acc: 0.7450 | Val Loss: 0.4893 | Val Acc: 0.8182\n",
      "\n",
      " Find best model with val_acc 0.8181818181818182. saved model to weights/local_training_diabetes_model.safetensors\n",
      "Epoch 21/100 | Train Loss: 0.4971 | Train Acc: 0.7500 | Val Loss: 0.4845 | Val Acc: 0.8052\n",
      "Epoch 22/100 | Train Loss: 0.5121 | Train Acc: 0.7550 | Val Loss: 0.4859 | Val Acc: 0.8182\n",
      "Epoch 23/100 | Train Loss: 0.4986 | Train Acc: 0.7588 | Val Loss: 0.4845 | Val Acc: 0.7792\n",
      "Epoch 24/100 | Train Loss: 0.5040 | Train Acc: 0.7575 | Val Loss: 0.5136 | Val Acc: 0.7987\n",
      "Epoch 25/100 | Train Loss: 0.5045 | Train Acc: 0.7638 | Val Loss: 0.5134 | Val Acc: 0.7532\n",
      "Epoch 26/100 | Train Loss: 0.4824 | Train Acc: 0.7788 | Val Loss: 0.4881 | Val Acc: 0.7857\n",
      "Epoch 27/100 | Train Loss: 0.4951 | Train Acc: 0.7588 | Val Loss: 0.4791 | Val Acc: 0.7987\n",
      "Epoch 28/100 | Train Loss: 0.5067 | Train Acc: 0.7650 | Val Loss: 0.5210 | Val Acc: 0.7662\n",
      "Epoch 29/100 | Train Loss: 0.5000 | Train Acc: 0.7600 | Val Loss: 0.4838 | Val Acc: 0.7857\n",
      "Epoch 30/100 | Train Loss: 0.4845 | Train Acc: 0.7562 | Val Loss: 0.5262 | Val Acc: 0.7597\n",
      "Epoch 31/100 | Train Loss: 0.5159 | Train Acc: 0.7488 | Val Loss: 0.4834 | Val Acc: 0.7922\n",
      "Epoch 32/100 | Train Loss: 0.4910 | Train Acc: 0.7688 | Val Loss: 0.4855 | Val Acc: 0.7857\n",
      "Epoch 33/100 | Train Loss: 0.5020 | Train Acc: 0.7662 | Val Loss: 0.4916 | Val Acc: 0.7857\n",
      "Epoch 34/100 | Train Loss: 0.4901 | Train Acc: 0.7675 | Val Loss: 0.4755 | Val Acc: 0.7792\n",
      "Epoch 35/100 | Train Loss: 0.5139 | Train Acc: 0.7550 | Val Loss: 0.5053 | Val Acc: 0.7792\n",
      "Epoch 36/100 | Train Loss: 0.5051 | Train Acc: 0.7550 | Val Loss: 0.4931 | Val Acc: 0.7662\n",
      "Epoch 37/100 | Train Loss: 0.4740 | Train Acc: 0.7700 | Val Loss: 0.4724 | Val Acc: 0.7987\n",
      "Epoch 38/100 | Train Loss: 0.4845 | Train Acc: 0.7800 | Val Loss: 0.4897 | Val Acc: 0.7857\n",
      "Epoch 39/100 | Train Loss: 0.4822 | Train Acc: 0.7963 | Val Loss: 0.4797 | Val Acc: 0.7792\n",
      "Epoch 40/100 | Train Loss: 0.4854 | Train Acc: 0.7662 | Val Loss: 0.5023 | Val Acc: 0.7987\n",
      "Epoch 41/100 | Train Loss: 0.4858 | Train Acc: 0.7738 | Val Loss: 0.4969 | Val Acc: 0.7857\n",
      "Epoch 42/100 | Train Loss: 0.4961 | Train Acc: 0.7538 | Val Loss: 0.4857 | Val Acc: 0.7857\n",
      "Epoch 43/100 | Train Loss: 0.4881 | Train Acc: 0.7662 | Val Loss: 0.4960 | Val Acc: 0.7987\n",
      "Epoch 44/100 | Train Loss: 0.5072 | Train Acc: 0.7625 | Val Loss: 0.4925 | Val Acc: 0.7792\n",
      "Epoch 45/100 | Train Loss: 0.4764 | Train Acc: 0.7450 | Val Loss: 0.4813 | Val Acc: 0.7922\n",
      "Epoch 46/100 | Train Loss: 0.4900 | Train Acc: 0.7662 | Val Loss: 0.4867 | Val Acc: 0.7792\n",
      "Epoch 47/100 | Train Loss: 0.4948 | Train Acc: 0.7762 | Val Loss: 0.4917 | Val Acc: 0.7857\n",
      "Epoch 48/100 | Train Loss: 0.4940 | Train Acc: 0.7688 | Val Loss: 0.4655 | Val Acc: 0.8052\n",
      "Epoch 49/100 | Train Loss: 0.4782 | Train Acc: 0.7775 | Val Loss: 0.4711 | Val Acc: 0.7987\n",
      "Epoch 50/100 | Train Loss: 0.4846 | Train Acc: 0.7588 | Val Loss: 0.5003 | Val Acc: 0.7727\n",
      "Epoch 51/100 | Train Loss: 0.4986 | Train Acc: 0.7650 | Val Loss: 0.4862 | Val Acc: 0.8052\n",
      "Epoch 52/100 | Train Loss: 0.4866 | Train Acc: 0.7600 | Val Loss: 0.4785 | Val Acc: 0.7922\n",
      "Epoch 53/100 | Train Loss: 0.4885 | Train Acc: 0.7662 | Val Loss: 0.4958 | Val Acc: 0.7857\n",
      "Epoch 54/100 | Train Loss: 0.4817 | Train Acc: 0.7738 | Val Loss: 0.4886 | Val Acc: 0.8052\n",
      "Epoch 55/100 | Train Loss: 0.5168 | Train Acc: 0.7438 | Val Loss: 0.4889 | Val Acc: 0.7987\n",
      "Epoch 56/100 | Train Loss: 0.5070 | Train Acc: 0.7462 | Val Loss: 0.4947 | Val Acc: 0.7922\n",
      "Epoch 57/100 | Train Loss: 0.4904 | Train Acc: 0.7688 | Val Loss: 0.4899 | Val Acc: 0.7987\n",
      "Epoch 58/100 | Train Loss: 0.4909 | Train Acc: 0.7638 | Val Loss: 0.4887 | Val Acc: 0.7922\n",
      "Epoch 59/100 | Train Loss: 0.4858 | Train Acc: 0.7638 | Val Loss: 0.4902 | Val Acc: 0.7922\n",
      "Epoch 60/100 | Train Loss: 0.4865 | Train Acc: 0.7738 | Val Loss: 0.5107 | Val Acc: 0.7597\n",
      "Epoch 61/100 | Train Loss: 0.5117 | Train Acc: 0.7500 | Val Loss: 0.4873 | Val Acc: 0.7857\n",
      "Epoch 62/100 | Train Loss: 0.4808 | Train Acc: 0.7662 | Val Loss: 0.4766 | Val Acc: 0.7987\n",
      "Epoch 63/100 | Train Loss: 0.4984 | Train Acc: 0.7650 | Val Loss: 0.4995 | Val Acc: 0.7727\n",
      "Epoch 64/100 | Train Loss: 0.4794 | Train Acc: 0.7788 | Val Loss: 0.4896 | Val Acc: 0.8052\n",
      "Epoch 65/100 | Train Loss: 0.4988 | Train Acc: 0.7588 | Val Loss: 0.4924 | Val Acc: 0.7922\n",
      "Epoch 66/100 | Train Loss: 0.4983 | Train Acc: 0.7462 | Val Loss: 0.4648 | Val Acc: 0.8117\n",
      "Epoch 67/100 | Train Loss: 0.4822 | Train Acc: 0.7650 | Val Loss: 0.4858 | Val Acc: 0.7987\n",
      "Epoch 68/100 | Train Loss: 0.4744 | Train Acc: 0.7712 | Val Loss: 0.4811 | Val Acc: 0.8052\n",
      "Epoch 69/100 | Train Loss: 0.4649 | Train Acc: 0.7837 | Val Loss: 0.5285 | Val Acc: 0.7597\n",
      "Epoch 70/100 | Train Loss: 0.4835 | Train Acc: 0.7675 | Val Loss: 0.4988 | Val Acc: 0.7792\n",
      "Epoch 71/100 | Train Loss: 0.4901 | Train Acc: 0.7662 | Val Loss: 0.4820 | Val Acc: 0.7987\n",
      "Epoch 72/100 | Train Loss: 0.4803 | Train Acc: 0.7788 | Val Loss: 0.4836 | Val Acc: 0.8052\n",
      "Epoch 73/100 | Train Loss: 0.4910 | Train Acc: 0.7625 | Val Loss: 0.4946 | Val Acc: 0.7987\n",
      "Epoch 74/100 | Train Loss: 0.5128 | Train Acc: 0.7462 | Val Loss: 0.5047 | Val Acc: 0.7727\n",
      "Epoch 75/100 | Train Loss: 0.4809 | Train Acc: 0.7800 | Val Loss: 0.4860 | Val Acc: 0.7922\n",
      "Epoch 76/100 | Train Loss: 0.4755 | Train Acc: 0.7800 | Val Loss: 0.4669 | Val Acc: 0.8182\n",
      "Epoch 77/100 | Train Loss: 0.4987 | Train Acc: 0.7575 | Val Loss: 0.4945 | Val Acc: 0.7792\n",
      "Epoch 78/100 | Train Loss: 0.4977 | Train Acc: 0.7638 | Val Loss: 0.4849 | Val Acc: 0.7987\n",
      "Epoch 79/100 | Train Loss: 0.4933 | Train Acc: 0.7712 | Val Loss: 0.5082 | Val Acc: 0.7727\n",
      "Epoch 80/100 | Train Loss: 0.4932 | Train Acc: 0.7675 | Val Loss: 0.4685 | Val Acc: 0.8117\n",
      "Epoch 81/100 | Train Loss: 0.4891 | Train Acc: 0.7688 | Val Loss: 0.4943 | Val Acc: 0.7857\n",
      "Epoch 82/100 | Train Loss: 0.4988 | Train Acc: 0.7600 | Val Loss: 0.4768 | Val Acc: 0.8052\n",
      "Epoch 83/100 | Train Loss: 0.4863 | Train Acc: 0.7825 | Val Loss: 0.4969 | Val Acc: 0.7922\n",
      "Epoch 84/100 | Train Loss: 0.4805 | Train Acc: 0.7800 | Val Loss: 0.5006 | Val Acc: 0.7727\n",
      "Epoch 85/100 | Train Loss: 0.4610 | Train Acc: 0.7662 | Val Loss: 0.4941 | Val Acc: 0.7857\n",
      "Epoch 86/100 | Train Loss: 0.4905 | Train Acc: 0.7650 | Val Loss: 0.4953 | Val Acc: 0.7727\n",
      "Epoch 87/100 | Train Loss: 0.4988 | Train Acc: 0.7525 | Val Loss: 0.5008 | Val Acc: 0.7727\n",
      "Epoch 88/100 | Train Loss: 0.4828 | Train Acc: 0.7825 | Val Loss: 0.5184 | Val Acc: 0.7468\n",
      "Epoch 89/100 | Train Loss: 0.4707 | Train Acc: 0.7850 | Val Loss: 0.4727 | Val Acc: 0.8052\n",
      "Epoch 90/100 | Train Loss: 0.4904 | Train Acc: 0.7725 | Val Loss: 0.5100 | Val Acc: 0.7532\n",
      "Epoch 91/100 | Train Loss: 0.4860 | Train Acc: 0.7800 | Val Loss: 0.4799 | Val Acc: 0.8052\n",
      "Epoch 92/100 | Train Loss: 0.5083 | Train Acc: 0.7425 | Val Loss: 0.4935 | Val Acc: 0.7922\n",
      "Epoch 93/100 | Train Loss: 0.4930 | Train Acc: 0.7712 | Val Loss: 0.4974 | Val Acc: 0.7792\n",
      "Epoch 94/100 | Train Loss: 0.4979 | Train Acc: 0.7562 | Val Loss: 0.4889 | Val Acc: 0.7857\n",
      "Epoch 95/100 | Train Loss: 0.4918 | Train Acc: 0.7688 | Val Loss: 0.5037 | Val Acc: 0.7727\n",
      "Epoch 96/100 | Train Loss: 0.4966 | Train Acc: 0.7512 | Val Loss: 0.4904 | Val Acc: 0.7987\n",
      "Epoch 97/100 | Train Loss: 0.4808 | Train Acc: 0.7625 | Val Loss: 0.5153 | Val Acc: 0.7792\n",
      "Epoch 98/100 | Train Loss: 0.4876 | Train Acc: 0.7612 | Val Loss: 0.4940 | Val Acc: 0.7987\n",
      "Epoch 99/100 | Train Loss: 0.5005 | Train Acc: 0.7675 | Val Loss: 0.4885 | Val Acc: 0.7987\n",
      "Epoch 100/100 | Train Loss: 0.4941 | Train Acc: 0.7538 | Val Loss: 0.4868 | Val Acc: 0.7922\n"
     ]
    }
   ],
   "source": [
    "# Train the model\n",
    "history = train_model(model, train_loader, test_loader, criterion, optimizer)\n"
   ]
  },
  {
   "cell_type": "code",
   "execution_count": 40,
   "id": "ded1b597",
   "metadata": {},
   "outputs": [
    {
     "name": "stdout",
     "output_type": "stream",
     "text": [
      "Loaded model - Test loss: 0.4893, Test accuracy: 81.82%\n"
     ]
    }
   ],
   "source": [
    "# Create a new model instance\n",
    "loaded_model = Net().to(DEVICE)\n",
    "\n",
    "# Load the weights from SafeTensors file\n",
    "loaded_model.load_state_dict(load_file(WEIGHT_PATH))\n",
    "\n",
    "# Evaluate the loaded model\n",
    "test_loss, test_acc = evaluate_model(loaded_model, test_loader, criterion)\n",
    "print(f\"Loaded model - Test loss: {test_loss:.4f}, Test accuracy: {test_acc*100:.2f}%\")"
   ]
  },
  {
   "cell_type": "code",
   "execution_count": null,
   "id": "7c572583",
   "metadata": {},
   "outputs": [],
   "source": []
  }
 ],
 "metadata": {
  "kernelspec": {
   "display_name": ".venv",
   "language": "python",
   "name": "python3"
  },
  "language_info": {
   "codemirror_mode": {
    "name": "ipython",
    "version": 3
   },
   "file_extension": ".py",
   "mimetype": "text/x-python",
   "name": "python",
   "nbconvert_exporter": "python",
   "pygments_lexer": "ipython3",
   "version": "3.12.9"
  }
 },
 "nbformat": 4,
 "nbformat_minor": 5
}
