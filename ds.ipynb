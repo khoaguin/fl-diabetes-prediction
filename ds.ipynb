{
 "cells": [
  {
   "cell_type": "markdown",
   "metadata": {},
   "source": [
    "## Prerequisites\n",
    "\n",
    "### SyftBox client\n",
    "Make sure you have syftbox client running in a terminal. **Please also still update if you have an old `syftbox` version running**\n",
    "1. Install `syftbox`: `curl -fsSL https://syftboxdev.openmined.org/install.sh | sh`\n",
    "2. If you are a first-time user, enter `n` (no) when it prompts `Start the client now? [y/n]` and follow step 3 and 4, otherwise say `yes` and ignore step 3 and 4\n",
    "3. Run `syftbox init` and follow the instructions to authenticate with OTP\n",
    "4. Run `syftbox`"
   ]
  },
  {
   "cell_type": "markdown",
   "metadata": {},
   "source": [
    "### Python Environment with Jupyter\n",
    "\n",
    "#### Using `uv` (recommended)\n",
    "Please make sure to have a virtual python environment with `jupyter` installed to run this notebook, e.g. run the below commands in a terminal\n",
    "```bash\n",
    "uv venv\n",
    "source .venv/bin/activate\n",
    "uv pip install jupyterlab\n",
    "```\n",
    "\n",
    "Run this notebook in jupyterlab / with the kernel set to the created virtual Python environment. Then install the dependencies with"
   ]
  },
  {
   "cell_type": "code",
   "execution_count": null,
   "metadata": {},
   "outputs": [],
   "source": [
    "!uv pip install \\\n",
    "    \"flwr[simulation]==1.17.0\" \"flwr-datasets>=0.5.0\" \\\n",
    "    \"scikit-learn==1.6.1\" \"torch==2.7.0\" \\\n",
    "    imblearn pandas loguru torchvision\n",
    "\n",
    "!uv pip install --upgrade syft-flwr"
   ]
  },
  {
   "cell_type": "markdown",
   "metadata": {},
   "source": [
    "#### Using `conda` or `pip venv` (Not recommended)\n",
    "```bash\n",
    "conda create --name myenv python=3.12\n",
    "conda activate myenv\n",
    "conda install jupyterlab\n",
    "```\n",
    "\n",
    "for python `venv`\n",
    "```bash\n",
    "python3 -m venv .venv\n",
    "source .venv/bin/activate\n",
    "pip install jupyterlab\n",
    "```\n",
    "\n",
    "Then install packages with\n",
    "```bash\n",
    "pip install \\\n",
    "    \"flwr[simulation]==1.17.0\" \"flwr-datasets>=0.5.0\" \\\n",
    "    \"scikit-learn==1.6.1\" \"torch==2.7.0\" \\\n",
    "    imblearn pandas loguru torchvision\n",
    "\n",
    "pip install --upgrade syft-flwr\n",
    "```"
   ]
  },
  {
   "cell_type": "markdown",
   "metadata": {},
   "source": [
    "## Some paths and constants"
   ]
  },
  {
   "cell_type": "code",
   "execution_count": null,
   "metadata": {},
   "outputs": [],
   "source": [
    "import syft_flwr\n",
    "\n",
    "print(syft_flwr.__version__)"
   ]
  },
  {
   "cell_type": "code",
   "execution_count": null,
   "metadata": {},
   "outputs": [],
   "source": [
    "from pathlib import Path\n",
    "\n",
    "SYFT_FLWR_PROJECT_PATH = Path(\"./fl-diabetes-prediction\")\n",
    "SYFTBOX_DATASET_NAME = \"pima-indians-diabetes-database\""
   ]
  },
  {
   "cell_type": "code",
   "execution_count": null,
   "metadata": {},
   "outputs": [],
   "source": [
    "assert SYFT_FLWR_PROJECT_PATH.exists()"
   ]
  },
  {
   "cell_type": "markdown",
   "metadata": {},
   "source": [
    "## Log into the data owners' datasites\n",
    "\n",
    "The DS logs in to the DOs' datasites remotely as guests"
   ]
  },
  {
   "cell_type": "code",
   "execution_count": null,
   "metadata": {},
   "outputs": [],
   "source": [
    "import syft_rds as sy\n",
    "from syft_core import Client\n",
    "\n",
    "DS = Client.load().email\n",
    "print(\"DS email: \", DS)\n",
    "\n",
    "DO1 = \"flower-test-group-1@openmined.org\"\n",
    "DO2 = \"flower-test-group-2@openmined.org\"\n",
    "\n",
    "do_client_1 = sy.init_session(host=DO1)\n",
    "print(\"Logged into: \", do_client_1.host)\n",
    "\n",
    "do_client_2 = sy.init_session(host=DO2)\n",
    "print(\"Logged into: \", do_client_2.host)\n",
    "\n",
    "do_clients = [do_client_1, do_client_2]\n",
    "do_emails = [DO1, DO2]"
   ]
  },
  {
   "cell_type": "code",
   "execution_count": null,
   "metadata": {},
   "outputs": [],
   "source": [
    "do_client_1.is_admin"
   ]
  },
  {
   "cell_type": "code",
   "execution_count": null,
   "metadata": {},
   "outputs": [],
   "source": [
    "do_client_2.is_admin"
   ]
  },
  {
   "cell_type": "markdown",
   "metadata": {},
   "source": [
    "## Explore the datasets"
   ]
  },
  {
   "cell_type": "code",
   "execution_count": null,
   "metadata": {},
   "outputs": [],
   "source": [
    "SYFTBOX_DATASET_NAME"
   ]
  },
  {
   "cell_type": "code",
   "execution_count": null,
   "metadata": {},
   "outputs": [],
   "source": [
    "mock_paths = []\n",
    "for client in do_clients:\n",
    "    dataset = client.dataset.get(name=SYFTBOX_DATASET_NAME)\n",
    "    mock_paths.append(dataset.get_mock_path())\n",
    "    print(f\"Client {client.host}'s dataset: \\n{dataset}\\n\")"
   ]
  },
  {
   "cell_type": "markdown",
   "metadata": {},
   "source": [
    "## Bootstrapping `syft_flwr` project"
   ]
  },
  {
   "cell_type": "code",
   "execution_count": null,
   "metadata": {},
   "outputs": [],
   "source": [
    "SYFT_FLWR_PROJECT_PATH"
   ]
  },
  {
   "cell_type": "code",
   "execution_count": null,
   "metadata": {},
   "outputs": [],
   "source": [
    "try:\n",
    "    !rm -rf {SYFT_FLWR_PROJECT_PATH / \"main.py\"}\n",
    "    syft_flwr.bootstrap(SYFT_FLWR_PROJECT_PATH, aggregator=DS, datasites=do_emails)\n",
    "    print(\"Bootstrapped project successfully ✅\")\n",
    "except Exception as e:\n",
    "    print(e)"
   ]
  },
  {
   "cell_type": "markdown",
   "metadata": {},
   "source": [
    "## Submit jobs"
   ]
  },
  {
   "cell_type": "code",
   "execution_count": null,
   "metadata": {},
   "outputs": [],
   "source": [
    "# clean up before submitting jobs\n",
    "!rm -rf {SYFT_FLWR_PROJECT_PATH / \"fl_diabetes_prediction\" / \"__pycache__\"}\n",
    "!rm -rf weights/"
   ]
  },
  {
   "cell_type": "code",
   "execution_count": null,
   "metadata": {},
   "outputs": [],
   "source": [
    "for client in do_clients:\n",
    "    print(f\"sending job to {client.host}\")\n",
    "    job = client.jobs.submit(\n",
    "        name=\"Syft Flower Experiment\",\n",
    "        description=\"Syft Flower Federated Learning Experiment\",\n",
    "        user_code_path=SYFT_FLWR_PROJECT_PATH,\n",
    "        dataset_name=SYFTBOX_DATASET_NAME,\n",
    "        tags=[\"federated learning\", \"fl\", \"syft_flwr\", \"flwr\"],\n",
    "        entrypoint=\"main.py\",\n",
    "    )\n",
    "    print(job)"
   ]
  },
  {
   "cell_type": "markdown",
   "metadata": {},
   "source": [
    "## DS starts the FL server code"
   ]
  },
  {
   "cell_type": "markdown",
   "metadata": {},
   "source": [
    "Please do not stop the below cell untill it's done (will take only around 1-2 mins)"
   ]
  },
  {
   "cell_type": "code",
   "execution_count": null,
   "metadata": {},
   "outputs": [],
   "source": [
    "import os\n",
    "\n",
    "os.environ[\"LOGURU_LEVEL\"] = \"DEBUG\"\n",
    "os.environ[\"SYFT_FLWR_MSG_TIMEOUT\"] = \"30\"\n",
    "\n",
    "!uv run {str(SYFT_FLWR_PROJECT_PATH / \"main.py\")} --active"
   ]
  },
  {
   "cell_type": "code",
   "execution_count": null,
   "metadata": {},
   "outputs": [],
   "source": []
  }
 ],
 "metadata": {
  "kernelspec": {
   "display_name": ".venv",
   "language": "python",
   "name": "python3"
  },
  "language_info": {
   "codemirror_mode": {
    "name": "ipython",
    "version": 3
   },
   "file_extension": ".py",
   "mimetype": "text/x-python",
   "name": "python",
   "nbconvert_exporter": "python",
   "pygments_lexer": "ipython3",
   "version": "3.12.9"
  }
 },
 "nbformat": 4,
 "nbformat_minor": 2
}
