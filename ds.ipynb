{
 "cells": [
  {
   "cell_type": "code",
   "execution_count": null,
   "metadata": {},
   "outputs": [],
   "source": [
    "from pathlib import Path\n",
    "\n",
    "SYFT_FLWR_PROJECT_PATH = Path(\"./fl-diabetes-prediction\")\n",
    "SYFTBOX_DATASET_NAME = \"pima-indians-diabetes-database\"\n",
    "RUN_SIMULATION = True\n",
    "\n",
    "assert SYFT_FLWR_PROJECT_PATH.exists()"
   ]
  },
  {
   "cell_type": "markdown",
   "metadata": {},
   "source": [
    "## Log into the data owners' datasites"
   ]
  },
  {
   "cell_type": "code",
   "execution_count": null,
   "metadata": {},
   "outputs": [],
   "source": [
    "import syft_rds as sy\n",
    "from syft_core import Client\n",
    "\n",
    "DS = Client.load().email\n",
    "DO1 = \"do1@openmined.org\"\n",
    "DO2 = \"do2@openmined.org\"\n",
    "DO3 = \"do3@openmined.org\"\n",
    "DO4 = \"do4@openmined.org\"\n",
    "DO5 = \"do5@openmined.org\"\n",
    "\n",
    "do_client_1 = sy.init_session(host=DO1)\n",
    "print(\"Logged into: \", do_client_1.host)\n",
    "\n",
    "do_client_2 = sy.init_session(host=DO2)\n",
    "print(\"Logged into: \", do_client_2.host)\n",
    "\n",
    "do_client_3 = sy.init_session(host=DO3)\n",
    "print(\"Logged into: \", do_client_3.host)\n",
    "\n",
    "do_client_4 = sy.init_session(host=DO4)\n",
    "print(\"Logged into: \", do_client_4.host)\n",
    "\n",
    "do_client_5 = sy.init_session(host=DO5)\n",
    "print(\"Logged into: \", do_client_5.host)"
   ]
  },
  {
   "cell_type": "markdown",
   "metadata": {},
   "source": [
    "## Explore the datasets"
   ]
  },
  {
   "cell_type": "code",
   "execution_count": null,
   "metadata": {},
   "outputs": [],
   "source": [
    "do_clients = [do_client_1, do_client_2, do_client_3, do_client_4, do_client_5]\n",
    "mock_paths = []\n",
    "for client in do_clients:\n",
    "    dataset = client.dataset.get(name=SYFTBOX_DATASET_NAME)\n",
    "    mock_paths.append(dataset.get_mock_path())\n",
    "    print(dataset)"
   ]
  },
  {
   "cell_type": "markdown",
   "metadata": {},
   "source": [
    "## Bootstrapping and run `syft_flwr` simulation"
   ]
  },
  {
   "cell_type": "code",
   "execution_count": null,
   "metadata": {},
   "outputs": [],
   "source": [
    "import syft_flwr\n",
    "\n",
    "syft_flwr.bootstrap(SYFT_FLWR_PROJECT_PATH, aggregator=DS, datasites=[DO1, DO2, DO3, DO4, DO5])"
   ]
  },
  {
   "cell_type": "markdown",
   "metadata": {},
   "source": [
    "## Run `flwr` and `syft_flwr` simulations (optional)"
   ]
  },
  {
   "cell_type": "code",
   "execution_count": null,
   "metadata": {},
   "outputs": [],
   "source": [
    "if RUN_SIMULATION:\n",
    "    !flwr run {SYFT_FLWR_PROJECT_PATH}"
   ]
  },
  {
   "cell_type": "code",
   "execution_count": null,
   "metadata": {},
   "outputs": [],
   "source": [
    "if RUN_SIMULATION:\n",
    "    syft_flwr.run(SYFT_FLWR_PROJECT_PATH, mock_paths)"
   ]
  },
  {
   "cell_type": "markdown",
   "metadata": {},
   "source": [
    "## Submit jobs"
   ]
  },
  {
   "cell_type": "markdown",
   "metadata": {},
   "source": [
    "Remove `__pycache__` (if exists) from running the simulation"
   ]
  },
  {
   "cell_type": "code",
   "execution_count": null,
   "metadata": {},
   "outputs": [],
   "source": [
    "!rm -rf SYFT_FLWR_PROJECT_PATH / \"fl_diabetes_prediction\" / \"__pycache__\""
   ]
  },
  {
   "cell_type": "code",
   "execution_count": null,
   "metadata": {},
   "outputs": [],
   "source": [
    "for client in do_clients:\n",
    "    job = client.jobs.submit(\n",
    "        name=\"Syft Flower Experiment\",\n",
    "        description=\"Syft Flower Federated Learning Experiment\",\n",
    "        user_code_path=SYFT_FLWR_PROJECT_PATH,\n",
    "        dataset_name=SYFTBOX_DATASET_NAME,\n",
    "        tags=[\"federated learning\", \"fl\", \"syft_flwr\", \"flwr\"],\n",
    "        entrypoint=\"main.py\",\n",
    "    )\n",
    "    print(job)"
   ]
  },
  {
   "cell_type": "markdown",
   "metadata": {},
   "source": [
    "## DS starts the FL server code"
   ]
  },
  {
   "cell_type": "code",
   "execution_count": null,
   "metadata": {},
   "outputs": [],
   "source": [
    "import os\n",
    "\n",
    "os.environ[\"LOGURU_LEVEL\"] = \"DEBUG\"\n",
    "!uv run {str(SYFT_FLWR_PROJECT_PATH / \"main.py\")} --active"
   ]
  },
  {
   "cell_type": "code",
   "execution_count": null,
   "metadata": {},
   "outputs": [],
   "source": []
  }
 ],
 "metadata": {
  "kernelspec": {
   "display_name": ".venv",
   "language": "python",
   "name": "python3"
  },
  "language_info": {
   "codemirror_mode": {
    "name": "ipython",
    "version": 3
   },
   "file_extension": ".py",
   "mimetype": "text/x-python",
   "name": "python",
   "nbconvert_exporter": "python",
   "pygments_lexer": "ipython3",
   "version": "3.12.9"
  }
 },
 "nbformat": 4,
 "nbformat_minor": 2
}
